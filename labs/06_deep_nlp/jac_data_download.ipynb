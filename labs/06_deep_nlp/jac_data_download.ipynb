{
 "cells": [
  {
   "cell_type": "code",
   "execution_count": 1,
   "metadata": {},
   "outputs": [
    {
     "name": "stdout",
     "output_type": "stream",
     "text": [
      "Downloading http://mlg.ucd.ie/files/datasets/bbc-fulltext.zip to bbc-fulltext.zip...\n",
      "Extracting contents of bbc-fulltext.zip...\n",
      "Downloading from https://github.com/m2dsupsdlclass/lectures-labs/releases/download/0.3/glove100k.100d.zip to glove100k.100d.zip...\n",
      "extracting glove100k.100d.zip...\n"
     ]
    },
    {
     "name": "stderr",
     "output_type": "stream",
     "text": [
      "/home/jerome/anaconda3/lib/python3.6/site-packages/h5py/__init__.py:36: FutureWarning: Conversion of the second argument of issubdtype from `float` to `np.floating` is deprecated. In future, it will be treated as `np.float64 == np.dtype(float).type`.\n",
      "  from ._conv import register_converters as _register_converters\n",
      "Using TensorFlow backend.\n",
      "/home/jerome/anaconda3/lib/python3.6/importlib/_bootstrap.py:205: RuntimeWarning: compiletime version 3.5 of module 'tensorflow.python.framework.fast_tensor_util' does not match runtime version 3.6\n",
      "  return f(*args, **kwds)\n"
     ]
    },
    {
     "name": "stdout",
     "output_type": "stream",
     "text": [
      "Downloading data from https://s3.amazonaws.com/text-datasets/nietzsche.txt\n",
      "606208/600901 [==============================] - 1s 1us/step\n"
     ]
    }
   ],
   "source": [
    "# Run this cell before the lab !\n",
    "import numpy as np\n",
    "import os\n",
    "import os.path as op\n",
    "\n",
    "import zipfile\n",
    "try:\n",
    "    from urllib.request import urlretrieve\n",
    "except ImportError:  # Python 2 compat\n",
    "    from urllib import urlretrieve\n",
    "\n",
    "\n",
    "# BBC dataset\n",
    "BBC_DATASET_URL = \"http://mlg.ucd.ie/files/datasets/bbc-fulltext.zip\"\n",
    "zip_filename = BBC_DATASET_URL.rsplit('/', 1)[1]\n",
    "BBC_DATASET_FOLDER = 'bbc'\n",
    "if not op.exists(zip_filename):\n",
    "    print(\"Downloading %s to %s...\" % (BBC_DATASET_URL, zip_filename))\n",
    "    urlretrieve(BBC_DATASET_URL, zip_filename)\n",
    "\n",
    "if not op.exists(BBC_DATASET_FOLDER):\n",
    "    with zipfile.ZipFile(zip_filename, 'r') as f:\n",
    "        print(\"Extracting contents of %s...\" % zip_filename)\n",
    "        f.extractall('.')\n",
    "\n",
    "# Get pretrained Glove Word2Vec\n",
    "URL_REPRESENTATIONS = \"https://github.com/m2dsupsdlclass/lectures-labs/releases/download/0.3/glove100k.100d.zip\"\n",
    "ZIP_REPRESENTATIONS = \"glove100k.100d.zip\"\n",
    "FILE_REPRESENTATIONS = \"glove100K.100d.txt\"\n",
    "\n",
    "if not op.exists(ZIP_REPRESENTATIONS):\n",
    "    print('Downloading from %s to %s...' % (URL_REPRESENTATIONS, ZIP_REPRESENTATIONS))\n",
    "    urlretrieve(URL_REPRESENTATIONS, './' + ZIP_REPRESENTATIONS)\n",
    "    \n",
    "if not op.exists(FILE_REPRESENTATIONS):\n",
    "    print(\"extracting %s...\" % ZIP_REPRESENTATIONS)\n",
    "    myzip = zipfile.ZipFile(ZIP_REPRESENTATIONS)\n",
    "    myzip.extractall()\n",
    "    \n",
    "#Get Nietzche dataset\n",
    "from keras.utils.data_utils import get_file\n",
    "\n",
    "URL = \"https://s3.amazonaws.com/text-datasets/nietzsche.txt\"\n",
    "\n",
    "corpus_path = get_file('nietzsche.txt', origin=URL)"
   ]
  },
  {
   "cell_type": "code",
   "execution_count": 2,
   "metadata": {},
   "outputs": [
    {
     "name": "stdout",
     "output_type": "stream",
     "text": [
      "a\n"
     ]
    }
   ],
   "source": [
    "print('a')"
   ]
  }
 ],
 "metadata": {
  "kernelspec": {
   "display_name": "Python 3",
   "language": "python",
   "name": "python3"
  },
  "language_info": {
   "codemirror_mode": {
    "name": "ipython",
    "version": 3
   },
   "file_extension": ".py",
   "mimetype": "text/x-python",
   "name": "python",
   "nbconvert_exporter": "python",
   "pygments_lexer": "ipython3",
   "version": "3.6.2"
  }
 },
 "nbformat": 4,
 "nbformat_minor": 2
}
